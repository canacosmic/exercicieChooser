{
  "nbformat": 4,
  "nbformat_minor": 0,
  "metadata": {
    "colab": {
      "name": "ramdomExerciceChoice.ipynb",
      "provenance": [],
      "collapsed_sections": []
    },
    "kernelspec": {
      "name": "python3",
      "display_name": "Python 3"
    }
  },
  "cells": [
    {
      "cell_type": "code",
      "metadata": {
        "id": "xqz89EUzSL8w"
      },
      "source": [
        "import random\n",
        "\n",
        "def ejerciciosRandom(lista, integrantes):\n",
        "\n",
        "  listOriginal = lista\n",
        "\n",
        "  yeah = len(listOriginal)\n",
        "  mens = integrantes\n",
        "  exhead = yeah//mens\n",
        "\n",
        "  randomList1 = random.sample(listOriginal, len(listOriginal))\n",
        "\n",
        "  print(\"La lista contiene un total de\", yeah, \"ejercicios:\")\n",
        "  print(listOriginal)\n",
        "  print(\"Se desea dividir aleatoreamente en\", mens,\"integrantes.\")\n",
        "  print(\"\")\n",
        "  continuar = input(\"¿Desea continuar? (s/n)\")\n",
        "  print(\"\")\n",
        "  if continuar == \"n\":\n",
        "    print(\"¡Hasta la próxima!\")\n",
        "  else:\n",
        "    if continuar == \"s\":\n",
        "      print(\"¡Excelente! Continuemos...\")\n",
        "      print(\"\")\n",
        "      print(\"A cada integrante le toca resolver\", exhead , \"ejercicios.\")\n",
        "      print(\"A continuacion se muestran las listas para los\", mens, \"integrates:\" )\n",
        "      print(\"\")\n",
        "      print([randomList1[i:i+exhead] for i in range(0,len(randomList1),exhead)])\n"
      ],
      "execution_count": 162,
      "outputs": []
    },
    {
      "cell_type": "code",
      "metadata": {
        "id": "U0mb1gAsS04e",
        "outputId": "f6f119a3-5c1a-4639-fd3d-08a6e2d323b1",
        "colab": {
          "base_uri": "https://localhost:8080/",
          "height": 225
        }
      },
      "source": [
        "ejerciciosRandom([1,3,5,6,7,9,14,15,16,22,344,544,233,5554,322,44,55,666,4223,344],4)"
      ],
      "execution_count": 173,
      "outputs": [
        {
          "output_type": "stream",
          "text": [
            "La lista contiene un total de 20 ejercicios:\n",
            "[1, 3, 5, 6, 7, 9, 14, 15, 16, 22, 344, 544, 233, 5554, 322, 44, 55, 666, 4223, 344]\n",
            "Se desea dividir aleatoreamente en 4 integrantes.\n",
            "\n",
            "¿Desea continuar? (s/n)s\n",
            "\n",
            "¡Excelente! Continuemos...\n",
            "\n",
            "A cada integrante le toca resolver 5 ejercicios.\n",
            "A continuacion se muestran las listas para los 4 integrates:\n",
            "\n",
            "[[16, 1, 344, 3, 6], [55, 4223, 666, 44, 5], [22, 15, 322, 544, 7], [5554, 233, 344, 14, 9]]\n"
          ],
          "name": "stdout"
        }
      ]
    },
    {
      "cell_type": "code",
      "metadata": {
        "id": "RHPKyw4n1OgZ"
      },
      "source": [
        ""
      ],
      "execution_count": null,
      "outputs": []
    }
  ]
}